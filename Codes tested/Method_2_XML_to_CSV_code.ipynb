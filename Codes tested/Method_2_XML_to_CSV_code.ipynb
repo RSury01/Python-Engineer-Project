{
  "nbformat": 4,
  "nbformat_minor": 0,
  "metadata": {
    "colab": {
      "provenance": [],
      "collapsed_sections": []
    },
    "kernelspec": {
      "name": "python3",
      "display_name": "Python 3"
    },
    "language_info": {
      "name": "python"
    }
  },
  "cells": [
    {
      "cell_type": "code",
      "execution_count": null,
      "metadata": {
        "id": "E370qytXVot1"
      },
      "outputs": [],
      "source": [
        "# Import the packages\n",
        "\n",
        "import xml.etree.ElementTree as ETree\n",
        "import_pandas as pd\n",
        "# load and parse the input file\n",
        "Tree = Etree.parse('D:/INPUT1.XML') # Give input file path\n",
        "root = Tree.getroot() # xml_file parsed done\n",
        "A = [] # Assign empty list to use later\n",
        "for ele in root:\n",
        "    B = {} Assign empty dictionary to store data values in key:value pair\n",
        "    for i in list (ele):\n",
        "        B.update({i.tag: i.text})  # updating dictionary with (tag -> Columns, text -> Rowdata)\n",
        "        A.append(B) # appending B to list\n",
        "df = pd.DataFrame(A) # Creating a dataframe..(It is a 2 dimensional data structure)\n",
        "# consists of 3 components... data, rows and columns\n",
        "df.drop_duplicates(keep='first', inplace=True) # Delete if any duplicates\n",
        "\n",
        "writer = pd.Excelwriter(\"D:/OUTPUT.xlsx\", engine='xlsxwriter') #It will create and write data in output file\n",
        "\n",
        "or\n",
        "\n",
        "writer = pd.Csvwriter(\"D:/OUTPUT.csv\", engine='csvwriter') #It will create and write data in output file\n",
        "\n",
        "\n",
        " "
      ]
    }
  ]
}