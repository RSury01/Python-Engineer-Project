{
  "nbformat": 4,
  "nbformat_minor": 0,
  "metadata": {
    "colab": {
      "provenance": [],
      "collapsed_sections": []
    },
    "kernelspec": {
      "name": "python3",
      "display_name": "Python 3"
    },
    "language_info": {
      "name": "python"
    }
  },
  "cells": [
    {
      "cell_type": "markdown",
      "source": [
        "xml to xlsx to csv"
      ],
      "metadata": {
        "id": "5Zg1brRhfrOB"
      }
    },
    {
      "cell_type": "code",
      "source": [
        "import xlsxwriter"
      ],
      "metadata": {
        "id": "hv6Lwyq47Ruq"
      },
      "execution_count": null,
      "outputs": []
    },
    {
      "cell_type": "code",
      "source": [
        "pip install xlsxwriter"
      ],
      "metadata": {
        "colab": {
          "base_uri": "https://localhost:8080/"
        },
        "id": "Mdt6DHLS_eJN",
        "outputId": "f52bdbfe-9072-4129-ff55-63a06b988cc8"
      },
      "execution_count": null,
      "outputs": [
        {
          "output_type": "stream",
          "name": "stdout",
          "text": [
            "Looking in indexes: https://pypi.org/simple, https://us-python.pkg.dev/colab-wheels/public/simple/\n",
            "Collecting xlsxwriter\n",
            "  Downloading XlsxWriter-3.0.3-py3-none-any.whl (149 kB)\n",
            "\u001b[K     |████████████████████████████████| 149 kB 9.2 MB/s \n",
            "\u001b[?25hInstalling collected packages: xlsxwriter\n",
            "Successfully installed xlsxwriter-3.0.3\n"
          ]
        }
      ]
    },
    {
      "cell_type": "markdown",
      "source": [
        "File 1"
      ],
      "metadata": {
        "id": "JSe_Y1YJAmB_"
      }
    },
    {
      "cell_type": "code",
      "execution_count": null,
      "metadata": {
        "id": "E370qytXVot1",
        "colab": {
          "base_uri": "https://localhost:8080/"
        },
        "outputId": "16421c70-bad8-4ec8-e50e-27d5e41adc34"
      },
      "outputs": [
        {
          "output_type": "stream",
          "name": "stdout",
          "text": [
            "XML file converted into Excel successfully...\n"
          ]
        }
      ],
      "source": [
        "# Import the packages\n",
        "\n",
        "import xml.etree.ElementTree as ETree\n",
        "import pandas as pd\n",
        "# load and parse the input file\n",
        "Tree = ETree.parse(\"DLTINS_20210118_01of01.xml\") # Give input file path\n",
        "root = Tree.getroot() # xml_file parsed done\n",
        "A = [] # Assign empty list to use later\n",
        "for ele in root:\n",
        "    B = {} # Assign empty dictionary to store data values in key:value pair\n",
        "    for i in list(ele):\n",
        "        B.update({i.tag: i.text})  # updating dictionary with (tag -> Columns, text -> Rowdata)\n",
        "        A.append(B) # appending B to list\n",
        "df = pd.DataFrame(A) # Creating a dataframe..(It is a 2 dimensional data structure)\n",
        "# consists of 3 components... data, rows and columns\n",
        "df.drop_duplicates(keep='first', inplace=True) # Delete if any Duplicates\n",
        "df.reset_index(drop=True, inplace=True) # Reset index after deleting Duplicates\n",
        "writer = pd.ExcelWriter(\"DLTINS Final.xlsx\", engine='xlsxwriter') #It will create and write data in output file\n",
        "df.to_excel(writer, sheet_name='sheet1') # Used to export the dataframe to excel file\n",
        "# if want to add width space to column\n",
        "worksheet = writer.sheets['sheet1']\n",
        "worksheet.set_column(\"B:Z\", 30) # Columns from B to Z will increase to 30 characters\n",
        "writer.save() # It will save the file\n",
        "print(\"XML file converted into Excel successfully...\") "
      ]
    },
    {
      "cell_type": "markdown",
      "source": [
        "File 2"
      ],
      "metadata": {
        "id": "Yi74cBkQAp8_"
      }
    },
    {
      "cell_type": "code",
      "source": [
        "import xml.etree.ElementTree as ETree\n",
        "import pandas as pd\n",
        "# load and parse the input file\n",
        "Tree = ETree.parse(\"DLTINS_20210117_01of01.xml\") # Give input file path\n",
        "root = Tree.getroot() # xml_file parsed done\n",
        "A = [] # Assign empty list to use later\n",
        "for ele in root:\n",
        "    B = {} # Assign empty dictionary to store data values in key:value pair\n",
        "    for i in list(ele):\n",
        "        B.update({i.tag: i.text})  # updating dictionary with (tag -> Columns, text -> Rowdata)\n",
        "        A.append(B) # appending B to list\n",
        "df = pd.DataFrame(A) # Creating a dataframe..(It is a 2 dimensional data structure)\n",
        "# consists of 3 components... data, rows and columns\n",
        "df.drop_duplicates(keep='first', inplace=True) # Delete if any Duplicates\n",
        "df.reset_index(drop=True, inplace=True) # Reset index after deleting Duplicates\n",
        "writer = pd.ExcelWriter(\"DLTINS Final.xlsx\", engine='xlsxwriter') #It will create and write data in output file\n",
        "df.to_excel(writer, sheet_name='sheet1') # Used to export the dataframe to excel file\n",
        "# if want to add width space to column\n",
        "worksheet = writer.sheets['sheet1']\n",
        "worksheet.set_column(\"B:Z\", 30) # Columns from B to Z will increase to 30 characters\n",
        "writer.save() # It will save the file\n",
        "print(\"XML file converted into Excel successfully...\")"
      ],
      "metadata": {
        "colab": {
          "base_uri": "https://localhost:8080/"
        },
        "id": "J7yWCWvx_jE1",
        "outputId": "8324df28-841e-4d09-9e2c-6843dc4a643d"
      },
      "execution_count": null,
      "outputs": [
        {
          "output_type": "stream",
          "name": "stdout",
          "text": [
            "XML file converted into Excel successfully...\n"
          ]
        }
      ]
    },
    {
      "cell_type": "markdown",
      "source": [
        "File 3"
      ],
      "metadata": {
        "id": "yrf4myxkAti0"
      }
    },
    {
      "cell_type": "code",
      "source": [
        "import xml.etree.ElementTree as ETree\n",
        "import pandas as pd\n",
        "# load and parse the input file\n",
        "Tree = ETree.parse(\"DLTINS_20210119_01of02.xml\") # Give input file path\n",
        "root = Tree.getroot() # xml_file parsed done\n",
        "A = [] # Assign empty list to use later\n",
        "for ele in root:\n",
        "    B = {} # Assign empty dictionary to store data values in key:value pair\n",
        "    for i in list(ele):\n",
        "        B.update({i.tag: i.text})  # updating dictionary with (tag -> Columns, text -> Rowdata)\n",
        "        A.append(B) # appending B to list\n",
        "df = pd.DataFrame(A) # Creating a dataframe..(It is a 2 dimensional data structure)\n",
        "# consists of 3 components... data, rows and columns\n",
        "df.drop_duplicates(keep='first', inplace=True) # Delete if any Duplicates\n",
        "df.reset_index(drop=True, inplace=True) # Reset index after deleting Duplicates\n",
        "writer = pd.ExcelWriter(\"DLTINS Final.xlsx\", engine='xlsxwriter') #It will create and write data in output file\n",
        "df.to_excel(writer, sheet_name='sheet1') # Used to export the dataframe to excel file\n",
        "# if want to add width space to column\n",
        "worksheet = writer.sheets['sheet1']\n",
        "worksheet.set_column(\"B:Z\", 30) # Columns from B to Z will increase to 30 characters\n",
        "writer.save() # It will save the file\n",
        "print(\"XML file converted into Excel successfully...\")"
      ],
      "metadata": {
        "colab": {
          "base_uri": "https://localhost:8080/"
        },
        "id": "X7BYNDRq_pm6",
        "outputId": "cf2cfd7e-d11d-4bb9-eaf5-f65d419d72c8"
      },
      "execution_count": null,
      "outputs": [
        {
          "output_type": "stream",
          "name": "stdout",
          "text": [
            "XML file converted into Excel successfully...\n"
          ]
        }
      ]
    },
    {
      "cell_type": "markdown",
      "source": [
        "File 4"
      ],
      "metadata": {
        "id": "46g9B7UzAxL5"
      }
    },
    {
      "cell_type": "code",
      "source": [
        "import xml.etree.ElementTree as ETree\n",
        "import pandas as pd\n",
        "# load and parse the input file\n",
        "Tree = ETree.parse(\"DLTINS_20210119_02of02.xml\") # Give input file path\n",
        "root = Tree.getroot() # xml_file parsed done\n",
        "A = [] # Assign empty list to use later\n",
        "for ele in root:\n",
        "    B = {} # Assign empty dictionary to store data values in key:value pair\n",
        "    for i in list(ele):\n",
        "        B.update({i.tag: i.text})  # updating dictionary with (tag -> Columns, text -> Rowdata)\n",
        "        A.append(B) # appending B to list\n",
        "df = pd.DataFrame(A) # Creating a dataframe..(It is a 2 dimensional data structure)\n",
        "# consists of 3 components... data, rows and columns\n",
        "df.drop_duplicates(keep='first', inplace=True) # Delete if any Duplicates\n",
        "df.reset_index(drop=True, inplace=True) # Reset index after deleting Duplicates\n",
        "writer = pd.ExcelWriter(\"DLTINS Final.xlsx\", engine='xlsxwriter') #It will create and write data in output file\n",
        "df.to_excel(writer, sheet_name='sheet1') # Used to export the dataframe to excel file\n",
        "# if want to add width space to column\n",
        "worksheet = writer.sheets['sheet1']\n",
        "worksheet.set_column(\"B:Z\", 30) # Columns from B to Z will increase to 30 characters\n",
        "writer.save() # It will save the file\n",
        "print(\"XML file converted into Excel successfully...\")"
      ],
      "metadata": {
        "colab": {
          "base_uri": "https://localhost:8080/"
        },
        "id": "x608i4Z1_rxM",
        "outputId": "5e6e23bb-15de-4d64-d978-7b60b4eae2c0"
      },
      "execution_count": null,
      "outputs": [
        {
          "output_type": "stream",
          "name": "stdout",
          "text": [
            "XML file converted into Excel successfully...\n"
          ]
        }
      ]
    },
    {
      "cell_type": "markdown",
      "source": [
        "XLSX TO CSV"
      ],
      "metadata": {
        "id": "0Nay1BPTfmIy"
      }
    },
    {
      "cell_type": "code",
      "source": [
        "# Used the converted excel file 'DLTINS FINAL' and saved it as a csv in the end"
      ],
      "metadata": {
        "id": "edQ85e2e_NSB"
      },
      "execution_count": null,
      "outputs": []
    }
  ]
}