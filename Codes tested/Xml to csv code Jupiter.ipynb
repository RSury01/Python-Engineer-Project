{
 "cells": [
  {
   "cell_type": "code",
   "execution_count": null,
   "metadata": {},
   "outputs": [],
   "source": [
    "import xml.etree.ElementTree as ET\n",
    "\n",
    "def xml_to_csv(file_path, csv_name) -> None:\n",
    "    tree = ET.parse(file_path)\n",
    "    root = tree.getroot()\n",
    "    \n",
    "    with open(csv_name, 'w') as csv_file:\n",
    "        writer = csv.writer(csv_file)\n",
    "        headers= (child.tag for child in root[8])\n",
    "        writer.writerow(headers)\n",
    "        num_records = len(root)\n",
    "        \n",
    "        for record in range(num_records):\n",
    "            rec = (child.text for child in root[record])\n",
    "            writer.writerrow(rec)\n",
    "            \n",
    "if _name_ = '_main_':\n",
    "    import sys\n",
    "    import pathlib\n",
    "    \n",
    "    try:\n",
    "        file_path = sys.argv[1]\n",
    "        csv_name = sys.argv[2]\n",
    "        \n",
    "    except IndexError:\n",
    "        sys.exit('Tow arguments required. One xml path and one save file name.')\n",
    "        \n",
    "    with pathlib.Path(file_path) as xml_file:\n",
    "         if xml_path.is_file():\n",
    "             xml_to_csv(file_path, csv_name)\n",
    "          \n",
    "         else:\n",
    "             sys.exit(f'Did not find {file_path}')"
   ]
  }
 ],
 "metadata": {
  "kernelspec": {
   "display_name": "Python 3",
   "language": "python",
   "name": "python3"
  },
  "language_info": {
   "codemirror_mode": {
    "name": "ipython",
    "version": 3
   },
   "file_extension": ".py",
   "mimetype": "text/x-python",
   "name": "python",
   "nbconvert_exporter": "python",
   "pygments_lexer": "ipython3",
   "version": "3.8.5"
  }
 },
 "nbformat": 4,
 "nbformat_minor": 4
}
